{
 "cells": [
  {
   "cell_type": "code",
   "execution_count": null,
   "metadata": {},
   "outputs": [],
   "source": [
    "#import libraries needed\n",
    "import numpy as np\n",
    "import matplotlib.pyplot as plt\n",
    "import skimage.data as skd"
   ]
  },
  {
   "cell_type": "markdown",
   "metadata": {},
   "source": [
    "# Visulizing dyad"
   ]
  },
  {
   "cell_type": "markdown",
   "metadata": {},
   "source": [
    "### Consider an image from skimage.data. For simplicity, say that X $\\in R^{mn}$ is the matrix representing that image. You are asked to visualize the dyad of the SVD Decomposition of X and the result of compressing the image via SVD. In particular:"
   ]
  },
  {
   "cell_type": "markdown",
   "metadata": {},
   "source": [
    "#### 1. Load the image into memory and compute its SVD"
   ]
  },
  {
   "cell_type": "code",
   "execution_count": null,
   "metadata": {},
   "outputs": [],
   "source": [
    "#Load data into memory\n",
    "\n",
    "img = skd.horse() \n",
    "plt.imshow(img, cmap = 'gray')\n",
    "plt.show()\n",
    "\n",
    "U, S, VT = np.linalg.svd(img)\n",
    "\n",
    "print(f'u.shape:{U.shape}, s.shape:{S.shape}, v.shape:{VT.shape}')"
   ]
  },
  {
   "cell_type": "markdown",
   "metadata": {},
   "source": [
    "#### 2. Visualize some of the dyad $\\sigma_i$ $u_i$ $v^T_i$ of this decomposition. What do you notice?"
   ]
  },
  {
   "cell_type": "code",
   "execution_count": null,
   "metadata": {},
   "outputs": [],
   "source": [
    "def calculate_dyad(U, VT, i):\n",
    "    U_i = U[:, i].reshape(len(U[0]), 1)\n",
    "    VT_i = VT[i, :].reshape(1, len(VT[0]))\n",
    "    A_i = U_i @ VT_i \n",
    "\n",
    "    return A_i\n",
    "\n",
    "\n",
    "for k in range(10):\n",
    "    A_i = calculate_dyad(U, VT, k)\n",
    "    plt.imshow(A_i, cmap='gray')\n",
    "    print(f\"k: {k}\")\n",
    "    plt.show()\n"
   ]
  },
  {
   "cell_type": "markdown",
   "metadata": {},
   "source": [
    "#### 3. Plot the singular values of X. Do you note something?"
   ]
  },
  {
   "cell_type": "code",
   "execution_count": null,
   "metadata": {},
   "outputs": [],
   "source": [
    "#S è il vettore colonna che contiene la diagonale si \\sigma\n",
    "\n",
    "plt.plot(S, 'o')\n",
    "plt.title('Singular values')\n",
    "plt.grid()\n",
    "plt.show()"
   ]
  },
  {
   "cell_type": "markdown",
   "metadata": {},
   "source": [
    "#### 4. Visualize the k-rank approximation of X for different values of k, What do you observe?"
   ]
  },
  {
   "cell_type": "code",
   "execution_count": null,
   "metadata": {},
   "outputs": [],
   "source": [
    "def calculate_appr(A_prev, U, S, VT, k):\n",
    "    A_i = calculate_dyad(U, VT, k)\n",
    "    S_i = S[k]    \n",
    "    A_k = A_prev + A_i*S_i\n",
    "\n",
    "    return A_k\n",
    "\n",
    "A_k = np.zeros(img.shape)\n",
    "\n",
    "for k in range (10):\n",
    "    A_k = calculate_appr(A_k, U, S, VT, k)\n",
    "    print(f\"A_{k}\")\n",
    "    plt.imshow(A_k, cmap='gray')\n",
    "    plt.show()"
   ]
  },
  {
   "cell_type": "markdown",
   "metadata": {},
   "source": [
    "#### 5. Compute and plot the approximation error $||X - X_k||$ for increasing values of k, where $X_k$ is the k-rank approximation of k."
   ]
  },
  {
   "cell_type": "code",
   "execution_count": null,
   "metadata": {},
   "outputs": [],
   "source": [
    "def approximation_error(A, A_k):\n",
    "    error = np.linalg.norm(A - A_k)\n",
    "    return error\n",
    "\n",
    "A_k = np.zeros(img.shape)\n",
    "k = np.arange(0, len(S))\n",
    "error = []\n",
    "\n",
    "for i in k:\n",
    "    A_k = calculate_appr(A_k, U, S, VT, i)\n",
    "    error.append(approximation_error(img, A_k))\n",
    "\n",
    "plt.plot(k, error)\n",
    "plt.title(\"Approximation error\")\n",
    "plt.xlabel('Number of dyads')\n",
    "plt.ylabel('Error')\n",
    "plt.grid()\n",
    "plt.show()\n"
   ]
  },
  {
   "cell_type": "markdown",
   "metadata": {},
   "source": [
    "#### 6. Plot the compression factor $\\frac {k}{mn}$ for increasing k."
   ]
  },
  {
   "cell_type": "code",
   "execution_count": null,
   "metadata": {},
   "outputs": [],
   "source": [
    "m, n = img.shape\n",
    "\n",
    "def calculate_compresssion_factor(k, m, n):\n",
    "    return k/(m*n)\n",
    "\n",
    "compression_factor = []\n",
    "k = np.arange(0, 10)\n",
    "\n",
    "for i in k:\n",
    "    c_f = calculate_compresssion_factor(i, m, n)\n",
    "    compression_factor.append(c_f)\n",
    "\n",
    "plt.plot(k, compression_factor)\n",
    "plt.title(\"Compression factor\")\n",
    "plt.xlabel('k')\n",
    "plt.ylabel('Compression factor')\n",
    "plt.grid()\n",
    "plt.show()\n"
   ]
  }
 ],
 "metadata": {
  "kernelspec": {
   "display_name": "Python 3.10.4 64-bit",
   "language": "python",
   "name": "python3"
  },
  "language_info": {
   "codemirror_mode": {
    "name": "ipython",
    "version": 3
   },
   "file_extension": ".py",
   "mimetype": "text/x-python",
   "name": "python",
   "nbconvert_exporter": "python",
   "pygments_lexer": "ipython3",
   "version": "3.10.4"
  },
  "orig_nbformat": 4,
  "vscode": {
   "interpreter": {
    "hash": "369f2c481f4da34e4445cda3fffd2e751bd1c4d706f27375911949ba6bb62e1c"
   }
  }
 },
 "nbformat": 4,
 "nbformat_minor": 2
}
