{
 "cells": [
  {
   "cell_type": "markdown",
   "metadata": {},
   "source": [
    "Lab 2 "
   ]
  },
  {
   "cell_type": "code",
   "execution_count": 1,
   "metadata": {},
   "outputs": [],
   "source": [
    "import numpy as np\n",
    "import pandas as pd"
   ]
  },
  {
   "cell_type": "code",
   "execution_count": 3,
   "metadata": {},
   "outputs": [
    {
     "name": "stdout",
     "output_type": "stream",
     "text": [
      "   label  pixel0  pixel1  pixel2  pixel3  pixel4  pixel5  pixel6  pixel7  \\\n",
      "0      1       0       0       0       0       0       0       0       0   \n",
      "1      0       0       0       0       0       0       0       0       0   \n",
      "2      1       0       0       0       0       0       0       0       0   \n",
      "3      4       0       0       0       0       0       0       0       0   \n",
      "4      0       0       0       0       0       0       0       0       0   \n",
      "\n",
      "   pixel8  ...  pixel774  pixel775  pixel776  pixel777  pixel778  pixel779  \\\n",
      "0       0  ...         0         0         0         0         0         0   \n",
      "1       0  ...         0         0         0         0         0         0   \n",
      "2       0  ...         0         0         0         0         0         0   \n",
      "3       0  ...         0         0         0         0         0         0   \n",
      "4       0  ...         0         0         0         0         0         0   \n",
      "\n",
      "   pixel780  pixel781  pixel782  pixel783  \n",
      "0         0         0         0         0  \n",
      "1         0         0         0         0  \n",
      "2         0         0         0         0  \n",
      "3         0         0         0         0  \n",
      "4         0         0         0         0  \n",
      "\n",
      "[5 rows x 785 columns]\n"
     ]
    }
   ],
   "source": [
    "#Load data into memory\n",
    "data = pd.read_csv('data.csv') \n",
    "\n",
    "print(data.head()) #le prime 5 righe"
   ]
  },
  {
   "cell_type": "code",
   "execution_count": 15,
   "metadata": {},
   "outputs": [
    {
     "name": "stdout",
     "output_type": "stream",
     "text": [
      "(42000, 785)\n",
      "(784, 42000)\n",
      "(42000,)\n"
     ]
    }
   ],
   "source": [
    "#Convert data into a matrix\n",
    "data = np.array(data) #we will lose the name of the olumns and the row number\n",
    "\n",
    "print(data.shape)\n",
    "\n",
    "#Dataset has 42.000 observation of 28 x 28 dimesion\n",
    "\n",
    "#Flattening: convertire una matrice in un vettore colonna \n",
    "#flattening 28 x 28 -> 784 = 28*28 dimensional vector\n",
    "\n",
    "#Split data into a matrix X and a vector Y where:\n",
    "#\n",
    "# X is dimension (42000, 784)\n",
    "# Y is dimesion (42000,)\n",
    "# Y is the first column of data, while X is the rest\n",
    "\n",
    "X = data[:, 1:]  #all the rows from column 1\n",
    "X = X.T #per fare corrispondere le dimesnioni: ogni colonna un'immagine\n",
    "d, N = X.shape\n",
    "print(X.shape)\n",
    "\n",
    "Y = data[:,0]  #all the rows and just the first column(0)\n",
    "print(Y.shape)\n"
   ]
  },
  {
   "cell_type": "code",
   "execution_count": 19,
   "metadata": {},
   "outputs": [
    {
     "data": {
      "image/png": "[encoded data removed]",
      "text/plain": [
       "<Figure size 640x480 with 1 Axes>"
      ]
     },
     "metadata": {},
     "output_type": "display_data"
    },
    {
     "name": "stdout",
     "output_type": "stream",
     "text": [
      "8\n"
     ]
    }
   ],
   "source": [
    "#How to visualize image in Python?\n",
    "import matplotlib.pyplot as plt\n",
    "\n",
    "#Load an image in memory\n",
    "idx = 10 #la decima immagine\n",
    "img = X[:,idx] #take all the rows and just the column idx\n",
    "img = np.reshape(img, (28, 28))  #opposite of flattening: da vettore a matrice\n",
    "\n",
    "#Visualize\n",
    "plt.imshow(img, cmap='gray') #cmap: how to convert pixel in colors\n",
    "plt.show()\n",
    "\n",
    "print(Y[idx]) #the correspondence"
   ]
  },
  {
   "cell_type": "code",
   "execution_count": 23,
   "metadata": {},
   "outputs": [
    {
     "name": "stdout",
     "output_type": "stream",
     "text": [
      "(784, 30000) (784, 12000)\n"
     ]
    }
   ],
   "source": [
    "#Create a function that takes as input two array X  and Y and an integer Ntrain \n",
    "#and returns four arrays Xtrain, Xtest, Ytrain and Ytest where:\n",
    "\n",
    "#Xtrain is composed by N_train random samples from X\n",
    "#Xtest is the rest of the array X\n",
    "#Ytrain and Ytest accordingly\n",
    "\n",
    "#limitations: the sample has to be random --> numpy.random.shuffle (and take the first ..) (shuffle only the columns) [If ypu apply the suffle directly on X, it will shuffle the rows]\n",
    "\n",
    "#Example: if Ntrain=30000 on our MNIST data, the shapes should be:\n",
    "#                                            Xtrain(784, 30000) Xtest(784, 12000)\n",
    "#                                            Ytrain(30000,)     Ytest(12000,)\n",
    "\n",
    "\n",
    "#Hint: 1-Generate a vector idx = [0, ..., N-1]\n",
    "#      2-Shuffle the vector idx\n",
    "#      3-Extract from X and Y the elements corresponding to idx[:Ntrain]\n",
    "\n",
    "#IMPORTANT!!!!!!!!!!!!!\n",
    "\n",
    "def split_data(X, Y, Ntrain):\n",
    "\n",
    "    d, N = X.shape\n",
    "\n",
    "    idx = np.arange(N)\n",
    "    np.random.shuffle(idx)\n",
    "\n",
    "    train_idx = idx[:Ntrain]\n",
    "    test_idx = idx[Ntrain:]\n",
    "\n",
    "    Xtrain = X[:, train_idx]\n",
    "    Ytrain = Y[train_idx]\n",
    "    \n",
    "    Xtest = X[:, test_idx]\n",
    "    Ytest = Y[test_idx]\n",
    "\n",
    "    return (Xtrain, Ytrain), (Xtest, Ytest)\n",
    "\n",
    "\n",
    "#Test it\n",
    "(Xtrain, Ytrain), (Xtest, Ytest) = split_data(X, Y, 30000)\n",
    "\n",
    "print(Xtrain.shape, Xtest.shape)\n"
   ]
  },
  {
   "cell_type": "code",
   "execution_count": null,
   "metadata": {},
   "outputs": [],
   "source": [
    "#SVA of a matrix A\n",
    "U, s, VT = np.linalg.svd(A)"
   ]
  },
  {
   "cell_type": "code",
   "execution_count": null,
   "metadata": {},
   "outputs": [],
   "source": [
    "#If X is a matrix\n",
    "np.mean(X, axis=0) #axis=0(1) apply by column(row)\n"
   ]
  },
  {
   "cell_type": "code",
   "execution_count": 3,
   "metadata": {},
   "outputs": [
    {
     "name": "stdout",
     "output_type": "stream",
     "text": [
      "(10,)\n",
      "(10, 1)\n"
     ]
    }
   ],
   "source": [
    "#Subtraction between matrix and (column) vector --> automaticamente la sottrazione avviene column by column \n",
    "import numpy as np\n",
    "\n",
    "x = np.linspace(0, 1, 10)\n",
    "print(x.shape)\n",
    "\n",
    "x = np.reshape(x, (10, 1))\n",
    "print(x.shape)"
   ]
  },
  {
   "cell_type": "code",
   "execution_count": 26,
   "metadata": {},
   "outputs": [],
   "source": [
    "# Implementation of PCA   ---- COMPLETARE (FA PARTE DI HOMEWORK)\n",
    "\n",
    "#Write a function that takes as input a matrix X and an integer k\n",
    "#and returns Z=Uk^TX, the PCA of X\n",
    "\n",
    "def PCA(X, k):\n",
    "    X_c = X - np.mean(X, axis=1)    #np.mean -> centroide\n",
    "\n",
    "    U, s, VT = np.linalg.svd(X_c)\n",
    "\n",
    "    U_k = U[:, :k]\n",
    "    #S_k = s[:k, :k]\n",
    "    #V_kT = VT[:k, :]\n",
    "\n",
    "    #X_ck = U_k @ S_k @ V_kT\n",
    "\n",
    "    Z_k = U_k.T @ X_c       #comne dimensione dovrebbe venire tipo 2x30000\n",
    "\n",
    "    return Z_k "
   ]
  }
 ],
 "metadata": {
  "kernelspec": {
   "display_name": "Python 3.9.13 ('base')",
   "language": "python",
   "name": "python3"
  },
  "language_info": {
   "codemirror_mode": {
    "name": "ipython",
    "version": 3
   },
   "file_extension": ".py",
   "mimetype": "text/x-python",
   "name": "python",
   "nbconvert_exporter": "python",
   "pygments_lexer": "ipython3",
   "version": "3.9.13"
  },
  "orig_nbformat": 4,
  "vscode": {
   "interpreter": {
    "hash": "ad2bdc8ecc057115af97d19610ffacc2b4e99fae6737bb82f5d7fb13d2f2c186"
   }
  }
 },
 "nbformat": 4,
 "nbformat_minor": 2
}
